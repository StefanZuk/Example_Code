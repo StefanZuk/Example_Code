{
 "cells": [
  {
   "cell_type": "code",
   "execution_count": 1,
   "id": "b7640551",
   "metadata": {},
   "outputs": [],
   "source": [
    "import pandas as pd\n",
    "import seaborn as sns\n",
    "import matplotlib.pyplot as plt\n",
    "import matplotlib as mpl\n",
    "import numpy as np\n",
    "from scipy import signal\n",
    "from sklearn.cluster import KMeans\n",
    "import scipy as sp\n",
    "from scipy.io import loadmat\n",
    "import copy\n",
    "from scipy import linalg\n",
    "\n",
    "sns.set_style('whitegrid')\n",
    "%matplotlib inline"
   ]
  },
  {
   "cell_type": "markdown",
   "id": "81a0d53f",
   "metadata": {},
   "source": [
    "## Task 1: Generate toy data\n",
    "\n",
    "Sample 1000 data points from a two dimensional mixture of Gaussian model with three clusters  and the following parameters:\n",
    "\n",
    "$\\mu_1 = \\begin{bmatrix}0\\\\0\\end{bmatrix}, \\Sigma_1 = \\begin{bmatrix}1 & 0\\\\0 & 1\\end{bmatrix}, \\pi_1=0.3$\n",
    "\n",
    "$\\mu_2 = \\begin{bmatrix}5\\\\1\\end{bmatrix}, \\Sigma_2 = \\begin{bmatrix}2 & 1\\\\1 & 2\\end{bmatrix}, \\pi_2=0.5$\n",
    "\n",
    "$\\mu_3 = \\begin{bmatrix}0\\\\4\\end{bmatrix}, \\Sigma_3 = \\begin{bmatrix}1 & -0.5\\\\-0.5 & 1\\end{bmatrix}, \\pi_3=0.2$\n",
    "\n",
    "Plot the sampled data points and indicate in color the cluster each point came from. Plot the cluster means as well."
   ]
  },
  {
   "cell_type": "code",
   "execution_count": 3,
   "id": "91d9fc7a",
   "metadata": {},
   "outputs": [],
   "source": [
    "def sampleData(N, m, S, p):\n",
    "#    Generate N samples from a Mixture of Gaussian distribution with\n",
    "#    means m, covariances S and priors p. The function returns the sampled\n",
    "#    datapoints x as well as an indicator for the cluster the point \n",
    "#    originated from. The number of samples is rounded to the nearest integer.\n",
    "#\n",
    "#    m     #components x #dim\n",
    "#    S     #dim x #dim x #components\n",
    "#    p     #components\n",
    "#\n",
    "#    x     N x #dim\n",
    "#    ind   N \n",
    "\n",
    "    samples = np.random.uniform(0,1,N)\n",
    "    p = np.cumsum(p)\n",
    "\n",
    "    x = []\n",
    "    ind = []\n",
    "    \n",
    "    for i in range(N):\n",
    "        for j, pi in enumerate(p):\n",
    "            if samples[i]<pi:\n",
    "                x.append(np.random.multivariate_normal(m[j],S[j]))\n",
    "                ind.append(j)\n",
    "                break\n",
    "                \n",
    "    \n",
    "    return (np.array(x),np.array(ind))    \n"
   ]
  },
  {
   "cell_type": "markdown",
   "id": "9734eb43",
   "metadata": {},
   "source": [
    "Specify parameters of Gaussians and generate data."
   ]
  },
  {
   "cell_type": "code",
   "execution_count": 4,
   "id": "c7011d81",
   "metadata": {},
   "outputs": [
    {
     "name": "stdout",
     "output_type": "stream",
     "text": [
      "(1000, 2)\n",
      "{0: 307, 1: 500, 2: 193}\n"
     ]
    }
   ],
   "source": [
    "N = 1000\n",
    "m = np.array([[0, 0], [5, 1], [0, 4]])\n",
    "S1 = np.array([[1, 0], [0, 1]])\n",
    "S2 = np.array([[2, 1], [1, 2]])\n",
    "S3 = np.array([[1, -.5], [-.5, 1]])\n",
    "S = np.concatenate((S1,S2,S3)).reshape(3,2,2)\n",
    "p = np.array([.3, .5, .2])\n",
    "\n",
    "np.random.seed(seed=2)\n",
    "x, ind = sampleData(N, m, S, p)\n",
    "\n",
    "print(x.shape)\n",
    "unique, counts = np.unique(ind, return_counts=True)\n",
    "print(dict(zip(unique, counts)))\n"
   ]
  },
  {
   "cell_type": "markdown",
   "id": "eff77537",
   "metadata": {},
   "source": [
    "Plot the generated dataset"
   ]
  },
  {
   "cell_type": "code",
   "execution_count": 5,
   "id": "0f649350",
   "metadata": {},
   "outputs": [
    {
     "data": {
      "text/plain": [
       "(-4.0, 10.0)"
      ]
     },
     "execution_count": 5,
     "metadata": {},
     "output_type": "execute_result"
    },
    {
     "data": {
      "image/png": "[encoded data removed]",
      "text/plain": [
       "<Figure size 432x432 with 1 Axes>"
      ]
     },
     "metadata": {
      "needs_background": "light"
     },
     "output_type": "display_data"
    }
   ],
   "source": [
    "plt.figure(figsize=(6, 6))\n",
    "\n",
    "ax = plt.subplot(1,1,1, aspect='equal')\n",
    "plt.plot(x[ind==0,0],x[ind==0,1],'.k', markersize=3) \n",
    "plt.plot(x[ind==1,0],x[ind==1,1],'.r', markersize=3) \n",
    "plt.plot(x[ind==2,0],x[ind==2,1],'.b', markersize=3)\n",
    "\n",
    "plt.xlim((-4,10))\n",
    "plt.ylim((-4,10))"
   ]
  },
  {
   "cell_type": "markdown",
   "id": "c4b2e113",
   "metadata": {},
   "source": [
    "## Task 2: Implement a Gaussian mixture model\n",
    "\n",
    "Implement the EM algorithm to fit a Gaussian mixture model in `mog()`.  Sort the data points by inferring their class labels from your mixture model (by using maximum a-posteriori classification). Fix the seed of the random number generator to ensure deterministic and reproducible behavior. Test it on the toy dataset specifying the correct number of clusters and make sure the code works correctly. Plot the data points from the toy dataset and indicate in color the cluster each point was assigned to by your model."
   ]
  },
  {
   "cell_type": "code",
   "execution_count": 7,
   "id": "0109b816",
   "metadata": {},
   "outputs": [],
   "source": [
    "from sklearn.mixture import GaussianMixture\n",
    "#Using sklearn\n",
    "def mog_sklearn(x,k):\n",
    "# Fit Mixture of Gaussian model\n",
    "#   ind, m, S, p = mog(x,k) fits a Mixture of Gaussian model to the data in\n",
    "#   x using k components. The output ind contains the MAP assignments of the\n",
    "#   datapoints in x to the found clusters. The outputs m, S, p contain\n",
    "#   the model parameters.\n",
    "#\n",
    "#   x:     N by D\n",
    "#\n",
    "#   ind:   N by 1\n",
    "#   m:     k by D\n",
    "#   S:     D by D by k\n",
    "#   p:     k by 1\n",
    "    gm = GaussianMixture(n_components=k, random_state=0).fit(x)\n",
    "    ind = gm.predict(x)\n",
    "    m = gm.means_\n",
    "    S = gm.covariances_\n",
    "    p = gm.weights_\n",
    "\n",
    "    return (ind, m, S, p)"
   ]
  },
  {
   "cell_type": "code",
   "execution_count": 8,
   "id": "648257ee",
   "metadata": {},
   "outputs": [],
   "source": [
    "from scipy.stats import multivariate_normal\n",
    "#Own implementation\n",
    "def mog(x,k):\n",
    "# Fit Mixture of Gaussian model\n",
    "#   ind, m, S, p = mog(x,k) fits a Mixture of Gaussian model to the data in\n",
    "#   x using k components. The output ind contains the MAP assignments of the\n",
    "#   datapoints in x to the found clusters. The outputs m, S, p contain\n",
    "#   the model parameters.\n",
    "#\n",
    "#   x:     N by D\n",
    "#\n",
    "#   ind:   N by 1\n",
    "#   m:     k by D\n",
    "#   S:     D by D by k\n",
    "#   p:     k by 1\n",
    "    #Init parameters\n",
    "    N = x.shape[0]\n",
    "    D = x.shape[-1]\n",
    "    p = np.ones((k,)) / k  \n",
    "    m = x[np.random.choice(N, size = k),:]\n",
    "    N_k = np.ones((k,))\n",
    "    ind_old = 1000 * np.zeros((N,)) \n",
    "    max_val = np.max(x)\n",
    "    min_val = np.min(x)\n",
    "    \n",
    "    \n",
    "    #random covariance matrix\n",
    "    s = np.random.normal(0, max_val, size=(D, D))\n",
    "    S = np.dot(s, s.transpose())\n",
    "    for i in range(k-1):\n",
    "        s = np.random.normal(0, max_val, size=(D, D))\n",
    "        mat = np.dot(s, s.transpose())\n",
    "        S = np.concatenate((S,mat))\n",
    "    S = S.reshape(k,D,D)\n",
    "\n",
    "    changed = True\n",
    "    counter = 0\n",
    "    #repeat until cluster assignment changes\n",
    "    while(changed):\n",
    "        y_new = []\n",
    "\n",
    "        #E-step\n",
    "        for kn in range(k):\n",
    "            y_list = []\n",
    "            for xn in x:\n",
    "                y_new_numerator = p[kn] * multivariate_normal.pdf(xn, mean=m[kn], cov=S[kn])\n",
    "                y_new_denominater = 0\n",
    "                for j in range(k):\n",
    "                    y_new_denominater += p[j] * multivariate_normal.pdf(xn, mean=m[j], cov=S[j])\n",
    "                y_new_div = y_new_numerator / y_new_denominater\n",
    "                y_list.append(y_new_div)\n",
    "            y_new.append(np.asarray(y_list))\n",
    "        y_new = np.asarray(y_new)\n",
    "        ind = np.argmax(y_new,axis=0).reshape((N,))\n",
    "        \n",
    "        #M-step\n",
    "        N_k = np.sum(y_new,axis=1)\n",
    "        for i in range(k):\n",
    "            n_div = (1/N_k[i])\n",
    "            m[i] = n_div * np.sum(y_new[i].reshape((N,1)) * x,axis=0)\n",
    "            \n",
    "            mean_deviations = x - m[i, :]\n",
    "            S_temp = np.zeros((D,D))\n",
    "            for j in range(N):\n",
    "                S_temp += y_new[i,j] * np.outer(mean_deviations[j, :],mean_deviations[j, :])\n",
    "            S[i,:,:] = 1 / N_k[i] * S_temp\n",
    "            \n",
    "            p[i] = N_k[i] / N\n",
    "\n",
    "        if (ind_old==ind).all():\n",
    "            changed = False\n",
    "        ind_old = ind\n",
    "                \n",
    "        counter += 1\n",
    "        if counter%10 == 0 or counter==1:\n",
    "            print('iteration: {0}'.format(counter))\n",
    "        \n",
    "    print('Finished with iteration: {0}'.format(counter))\n",
    "\n",
    "    return (ind, m, S, p)\n"
   ]
  },
  {
   "cell_type": "markdown",
   "id": "9e82655f",
   "metadata": {},
   "source": [
    "Run mixture model on the dataset"
   ]
  },
  {
   "cell_type": "code",
   "execution_count": 9,
   "id": "5176f3e5",
   "metadata": {},
   "outputs": [
    {
     "name": "stdout",
     "output_type": "stream",
     "text": [
      "iteration: 1\n",
      "iteration: 10\n",
      "iteration: 20\n",
      "iteration: 30\n",
      "iteration: 40\n",
      "Finished with iteration: 41\n"
     ]
    }
   ],
   "source": [
    "np.random.seed(seed=5)\n",
    "ind2, m, S, p = mog(x,3)"
   ]
  },
  {
   "cell_type": "markdown",
   "id": "50143a32",
   "metadata": {},
   "source": [
    "Plot assigned labels and original labels"
   ]
  },
  {
   "cell_type": "code",
   "execution_count": 10,
   "id": "fd2975b7",
   "metadata": {},
   "outputs": [
    {
     "name": "stdout",
     "output_type": "stream",
     "text": [
      "(1000,)\n"
     ]
    },
    {
     "data": {
      "text/plain": [
       "Text(0.5, 1.0, 'MoG labels')"
      ]
     },
     "execution_count": 10,
     "metadata": {},
     "output_type": "execute_result"
    },
    {
     "data": {
      "image/png": "[encoded data removed]",
      "text/plain": [
       "<Figure size 864x432 with 2 Axes>"
      ]
     },
     "metadata": {
      "needs_background": "light"
     },
     "output_type": "display_data"
    }
   ],
   "source": [
    "print(ind2.shape)\n",
    "\n",
    "plt.figure(figsize=(12, 6))\n",
    "\n",
    "ax = plt.subplot(1,2,1, aspect='equal')\n",
    "plt.plot(x[ind==0,0],x[ind==0,1],'.k', markersize=3) \n",
    "plt.plot(x[ind==1,0],x[ind==1,1],'.r', markersize=3) \n",
    "plt.plot(x[ind==2,0],x[ind==2,1],'.b', markersize=3)\n",
    "\n",
    "plt.xlim((-4,10))\n",
    "plt.ylim((-4,10))\n",
    "plt.title('True labels')\n",
    "\n",
    "ax = plt.subplot(1,2,2, aspect='equal')\n",
    "plt.plot(x[ind2==0,0],x[ind2==0,1],'.k', markersize=3) \n",
    "plt.plot(x[ind2==1,0],x[ind2==1,1],'.r', markersize=3) \n",
    "plt.plot(x[ind2==2,0],x[ind2==2,1],'.b', markersize=3)\n",
    "\n",
    "plt.xlim((-4,10))\n",
    "plt.ylim((-4,10))\n",
    "plt.title('MoG labels')\n"
   ]
  },
  {
   "cell_type": "code",
   "execution_count": null,
   "id": "5c9c292e",
   "metadata": {},
   "outputs": [],
   "source": []
  }
 ],
 "metadata": {
  "kernelspec": {
   "display_name": "Python 3",
   "language": "python",
   "name": "python3"
  },
  "language_info": {
   "codemirror_mode": {
    "name": "ipython",
    "version": 3
   },
   "file_extension": ".py",
   "mimetype": "text/x-python",
   "name": "python",
   "nbconvert_exporter": "python",
   "pygments_lexer": "ipython3",
   "version": "3.8.5"
  }
 },
 "nbformat": 4,
 "nbformat_minor": 5
}
